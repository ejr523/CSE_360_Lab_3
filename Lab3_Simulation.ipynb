{
  "nbformat": 4,
  "nbformat_minor": 0,
  "metadata": {
    "colab": {
      "provenance": []
    },
    "kernelspec": {
      "name": "python3",
      "display_name": "Python 3"
    },
    "language_info": {
      "name": "python"
    }
  },
  "cells": [
    {
      "cell_type": "code",
      "execution_count": null,
      "metadata": {
        "id": "AczcNlKaolju"
      },
      "outputs": [],
      "source": [
        "#%pylab inline\n",
        "import numpy as np\n",
        "import matplotlib.pyplot as plt\n",
        "import copy\n"
      ]
    },
    {
      "cell_type": "code",
      "source": [
        "# Perfect sensor\n",
        "def sense(x):\n",
        "    return x"
      ],
      "metadata": {
        "id": "Yo4F7ej2oolS"
      },
      "execution_count": null,
      "outputs": []
    },
    {
      "cell_type": "code",
      "source": [
        "# Euler integration\n",
        "def simulate(dt, x, u):\n",
        "    x += dt * u\n",
        "    return x"
      ],
      "metadata": {
        "id": "azY0d8cLorCj"
      },
      "execution_count": null,
      "outputs": []
    },
    {
      "cell_type": "code",
      "source": [
        "# Control policy\n",
        "def control(t, y, goal, k):\n",
        "    distx, disty = y[0], y[1]\n",
        "    ux = k*(goal[0] - distx)\n",
        "    uy = k*(goal[1] - disty)\n",
        "    return np.array([ux, uy])"
      ],
      "metadata": {
        "id": "CGtsfRALotKC"
      },
      "execution_count": null,
      "outputs": []
    },
    {
      "cell_type": "code",
      "source": [
        "tf = 6.2\n",
        "dt = 0.1    # Time step\n",
        "time = np.linspace(0., tf, int(tf / dt) + 1) # Time interval\n",
        "\n",
        "#Initial conditions\n",
        "x = np.array([4., 5.])\n",
        "x_log = [copy.copy(x)]\n",
        "\n",
        "#Target goal\n",
        "goal = np.array([2., 10.])\n",
        "\n",
        "#K value\n",
        "k = 0.5\n",
        "\n",
        "for t in time:\n",
        "    y = sense(x)\n",
        "    u = control(t, y, goal, k)\n",
        "    x = simulate(dt, x, u)\n",
        "    x_log.append(copy.copy(x))\n",
        "\n",
        "x_log = np.array(x_log)"
      ],
      "metadata": {
        "id": "fiCPGVZKow9w"
      },
      "execution_count": null,
      "outputs": []
    },
    {
      "cell_type": "code",
      "source": [
        "plt.grid()\n",
        "plt.xlabel(\"Time\")\n",
        "plt.ylabel(\"Position\")\n",
        "plt.plot(time[:], x_log[:-1, 0], label=\"x(t)\")\n",
        "plt.plot(time[:], x_log[:-1, 1], label=\"y(t)\")\n",
        "leg = plt.legend(loc='upper center')\n",
        "plt.axhline(10, color='black', ls='dotted')\n",
        "plt.axhline(2, color='black', ls='dotted')"
      ],
      "metadata": {
        "colab": {
          "base_uri": "https://localhost:8080/",
          "height": 297
        },
        "id": "B6cClngoo0l5",
        "outputId": "7a94b72f-66c5-4408-c27a-dc35c327b214"
      },
      "execution_count": null,
      "outputs": [
        {
          "output_type": "execute_result",
          "data": {
            "text/plain": [
              "<matplotlib.lines.Line2D at 0x7fe51d9b1220>"
            ]
          },
          "metadata": {},
          "execution_count": 144
        },
        {
          "output_type": "display_data",
          "data": {
            "text/plain": [
              "<Figure size 432x288 with 1 Axes>"
            ],
            "image/png": "[encoded data removed]"
          },
          "metadata": {
            "needs_background": "light"
          }
        }
      ]
    },
    {
      "cell_type": "code",
      "source": [
        "# !pip install JSAnimation"
      ],
      "metadata": {
        "id": "eINjTdLtrCHA"
      },
      "execution_count": null,
      "outputs": []
    },
    {
      "cell_type": "code",
      "source": [
        "# import matplotlib.pyplot as plt\n",
        "# from matplotlib import animation\n",
        "# from JSAnimation import IPython_display\n",
        "# from IPython.display import HTML\n",
        "\n",
        "# fig, ax = plt.subplots()\n",
        "\n",
        "# def animate(t):\n",
        "#     ax.clear()\n",
        "\n",
        "#     plt.xlabel(\"Time\")\n",
        "#     plt.ylabel(\"Position\")\n",
        "#     plt.plot(time[:], x_log[:-1, 0], label=\"x(t)\")\n",
        "#     plt.plot(time[:], x_log[:-1, 1], label=\"y(t)\")\n",
        "#     leg = plt.legend(loc='upper center')\n",
        "\n",
        "# anim = animation.FuncAnimation(fig, animate, frames=len(time), interval=60)\n",
        "\n",
        "# HTML(anim.to_jshtml())"
      ],
      "metadata": {
        "id": "G0l3QZaKo1s3"
      },
      "execution_count": null,
      "outputs": []
    },
    {
      "cell_type": "code",
      "source": [
        "tf = 6.2\n",
        "dt = 0.1    # Time step\n",
        "time = np.linspace(0., tf, int(tf / dt) + 1) # Time interval\n",
        "\n",
        "#Initial conditions\n",
        "x = np.array([4., 5.])\n",
        "x_log = [copy.copy(x)]\n",
        "\n",
        "#Target goal\n",
        "goal = np.array([2., 10.])\n",
        "\n",
        "#K value\n",
        "k = 1\n",
        "\n",
        "for t in time:\n",
        "    y = sense(x)\n",
        "    u = control(t, y, goal, k)\n",
        "    x = simulate(dt, x, u)\n",
        "    x_log.append(copy.copy(x))\n",
        "\n",
        "x_log = np.array(x_log)"
      ],
      "metadata": {
        "id": "jEoVpJR0PdTv"
      },
      "execution_count": null,
      "outputs": []
    },
    {
      "cell_type": "code",
      "source": [
        "plt.grid()\n",
        "plt.xlabel(\"Time\")\n",
        "plt.ylabel(\"Position\")\n",
        "plt.plot(time[:], x_log[:-1, 0], label=\"x(t)\")\n",
        "plt.plot(time[:], x_log[:-1, 1], label=\"y(t)\")\n",
        "leg = plt.legend(loc='upper center')\n",
        "plt.axhline(10, color='black', ls='dotted')\n",
        "plt.axhline(2, color='black', ls='dotted')"
      ],
      "metadata": {
        "colab": {
          "base_uri": "https://localhost:8080/",
          "height": 297
        },
        "id": "b2AEY-NWPt89",
        "outputId": "7146bf18-2dd3-42cf-b4af-4d9bf6260b86"
      },
      "execution_count": null,
      "outputs": [
        {
          "output_type": "execute_result",
          "data": {
            "text/plain": [
              "<matplotlib.lines.Line2D at 0x7fe51adce160>"
            ]
          },
          "metadata": {},
          "execution_count": 148
        },
        {
          "output_type": "display_data",
          "data": {
            "text/plain": [
              "<Figure size 432x288 with 1 Axes>"
            ],
            "image/png": "[encoded data removed]"
          },
          "metadata": {
            "needs_background": "light"
          }
        }
      ]
    },
    {
      "cell_type": "code",
      "source": [
        "tf = 6.2\n",
        "dt = 0.1    # Time step\n",
        "time = np.linspace(0., tf, int(tf / dt) + 1) # Time interval\n",
        "\n",
        "#Initial conditions\n",
        "x = np.array([4., 5.])\n",
        "x_log = [copy.copy(x)]\n",
        "\n",
        "#Target goal\n",
        "goal = np.array([2., 10.])\n",
        "\n",
        "#K value\n",
        "k = 5\n",
        "\n",
        "for t in time:\n",
        "    y = sense(x)\n",
        "    u = control(t, y, goal, k)\n",
        "    x = simulate(dt, x, u)\n",
        "    x_log.append(copy.copy(x))\n",
        "\n",
        "x_log = np.array(x_log)"
      ],
      "metadata": {
        "id": "oueklu0aPtlr"
      },
      "execution_count": null,
      "outputs": []
    },
    {
      "cell_type": "code",
      "source": [
        "plt.grid()\n",
        "plt.xlabel(\"Time\")\n",
        "plt.ylabel(\"Position\")\n",
        "plt.plot(time[:], x_log[:-1, 0], label=\"x(t)\")\n",
        "plt.plot(time[:], x_log[:-1, 1], label=\"y(t)\")\n",
        "leg = plt.legend(loc='upper center')\n",
        "plt.axhline(10, color='black', ls='dotted')\n",
        "plt.axhline(2, color='black', ls='dotted')"
      ],
      "metadata": {
        "colab": {
          "base_uri": "https://localhost:8080/",
          "height": 297
        },
        "id": "cKls8fJpPyhK",
        "outputId": "955e756d-bc1b-46f8-ea4d-45a23c9e3ab6"
      },
      "execution_count": null,
      "outputs": [
        {
          "output_type": "execute_result",
          "data": {
            "text/plain": [
              "<matplotlib.lines.Line2D at 0x7fe51ad977f0>"
            ]
          },
          "metadata": {},
          "execution_count": 150
        },
        {
          "output_type": "display_data",
          "data": {
            "text/plain": [
              "<Figure size 432x288 with 1 Axes>"
            ],
            "image/png": "[encoded data removed]"
          },
          "metadata": {
            "needs_background": "light"
          }
        }
      ]
    }
  ]
}